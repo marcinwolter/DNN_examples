{
  "nbformat": 4,
  "nbformat_minor": 0,
  "metadata": {
    "colab": {
      "name": "mnist_mlp.ipynb",
      "provenance": [],
      "collapsed_sections": [],
      "include_colab_link": true
    },
    "kernelspec": {
      "name": "python2",
      "display_name": "Python 2"
    },
    "accelerator": "GPU"
  },
  "cells": [
    {
      "cell_type": "markdown",
      "metadata": {
        "id": "view-in-github",
        "colab_type": "text"
      },
      "source": [
        "<a href=\"https://colab.research.google.com/github/marcinwolter/DNN_examples/blob/master/mnist_mlp.ipynb\" target=\"_parent\"><img src=\"https://colab.research.google.com/assets/colab-badge.svg\" alt=\"Open In Colab\"/></a>"
      ]
    },
    {
      "cell_type": "code",
      "metadata": {
        "id": "wskFAF8Svagf",
        "colab_type": "code",
        "outputId": "3d346783-0001-4353-8288-6a6a8d5933eb",
        "colab": {
          "base_uri": "https://localhost:8080/",
          "height": 692
        }
      },
      "source": [
        "'''Trains a simple deep NN on the MNIST dataset.\n",
        "\n",
        "Gets to 98.40% test accuracy after 20 epochs\n",
        "(there is *a lot* of margin for parameter tuning).\n",
        "2 seconds per epoch on a K520 GPU.\n",
        "'''\n",
        "\n",
        "from __future__ import print_function\n",
        "\n",
        "import matplotlib.pyplot as plt\n",
        "import numpy as np\n",
        "\n",
        "import keras\n",
        "from keras.datasets import mnist\n",
        "from keras.models import Sequential\n",
        "from keras.layers import Dense, Dropout\n",
        "from keras.optimizers import RMSprop\n",
        "\n",
        "batch_size = 128\n",
        "num_classes = 10\n",
        "epochs = 20 #20\n",
        "\n",
        "# the data, split between train and test sets\n",
        "(x_train, y_train), (x_test, y_test) = mnist.load_data()\n",
        "\n",
        "x_train = x_train.reshape(60000, 784)\n",
        "x_test = x_test.reshape(10000, 784)\n",
        "x_train = x_train.astype('float32')\n",
        "x_test = x_test.astype('float32')\n",
        "x_train /= 255\n",
        "x_test /= 255\n",
        "print(x_train.shape[0], 'train samples')\n",
        "print(x_test.shape[0], 'test samples')\n",
        "\n",
        "# convert class vectors to binary class matrices\n",
        "y_train = keras.utils.to_categorical(y_train, num_classes)\n",
        "y_test = keras.utils.to_categorical(y_test, num_classes)\n",
        "\n",
        "model = Sequential()\n",
        "model.add(Dense(512, activation='relu', input_shape=(784,)))\n",
        "model.add(Dropout(0.2))\n",
        "model.add(Dense(512, activation='relu'))\n",
        "model.add(Dropout(0.2))\n",
        "model.add(Dense(num_classes, activation='softmax'))\n",
        "\n",
        "model.summary()\n",
        "\n"
      ],
      "execution_count": 1,
      "outputs": [
        {
          "output_type": "stream",
          "text": [
            "Using TensorFlow backend.\n"
          ],
          "name": "stderr"
        },
        {
          "output_type": "display_data",
          "data": {
            "text/plain": [
              "<IPython.core.display.HTML object>"
            ],
            "text/html": [
              "<p style=\"color: red;\">\n",
              "The default version of TensorFlow in Colab will soon switch to TensorFlow 2.x.<br>\n",
              "We recommend you <a href=\"https://www.tensorflow.org/guide/migrate\" target=\"_blank\">upgrade</a> now \n",
              "or ensure your notebook will continue to use TensorFlow 1.x via the <code>%tensorflow_version 1.x</code> magic:\n",
              "<a href=\"https://colab.research.google.com/notebooks/tensorflow_version.ipynb\" target=\"_blank\">more info</a>.</p>\n"
            ]
          },
          "metadata": {
            "tags": []
          }
        },
        {
          "output_type": "stream",
          "text": [
            "Downloading data from https://s3.amazonaws.com/img-datasets/mnist.npz\n",
            "11493376/11490434 [==============================] - 2s 0us/step\n",
            "11501568/11490434 [==============================] - 2s 0us/step\n"
          ],
          "name": "stdout"
        },
        {
          "output_type": "stream",
          "text": [
            "WARNING: Logging before flag parsing goes to stderr.\n",
            "W1119 08:51:23.916263 140547022583680 module_wrapper.py:139] From /usr/local/lib/python2.7/dist-packages/keras/backend/tensorflow_backend.py:74: The name tf.get_default_graph is deprecated. Please use tf.compat.v1.get_default_graph instead.\n",
            "\n",
            "W1119 08:51:23.923471 140547022583680 module_wrapper.py:139] From /usr/local/lib/python2.7/dist-packages/keras/backend/tensorflow_backend.py:517: The name tf.placeholder is deprecated. Please use tf.compat.v1.placeholder instead.\n",
            "\n",
            "W1119 08:51:23.930955 140547022583680 module_wrapper.py:139] From /usr/local/lib/python2.7/dist-packages/keras/backend/tensorflow_backend.py:4138: The name tf.random_uniform is deprecated. Please use tf.random.uniform instead.\n",
            "\n",
            "W1119 08:51:23.947705 140547022583680 module_wrapper.py:139] From /usr/local/lib/python2.7/dist-packages/keras/backend/tensorflow_backend.py:133: The name tf.placeholder_with_default is deprecated. Please use tf.compat.v1.placeholder_with_default instead.\n",
            "\n",
            "W1119 08:51:23.958332 140547022583680 deprecation.py:506] From /usr/local/lib/python2.7/dist-packages/keras/backend/tensorflow_backend.py:3445: calling dropout (from tensorflow.python.ops.nn_ops) with keep_prob is deprecated and will be removed in a future version.\n",
            "Instructions for updating:\n",
            "Please use `rate` instead of `keep_prob`. Rate should be set to `rate = 1 - keep_prob`.\n"
          ],
          "name": "stderr"
        },
        {
          "output_type": "stream",
          "text": [
            "60000 train samples\n",
            "10000 test samples\n",
            "_________________________________________________________________\n",
            "Layer (type)                 Output Shape              Param #   \n",
            "=================================================================\n",
            "dense_1 (Dense)              (None, 512)               401920    \n",
            "_________________________________________________________________\n",
            "dropout_1 (Dropout)          (None, 512)               0         \n",
            "_________________________________________________________________\n",
            "dense_2 (Dense)              (None, 512)               262656    \n",
            "_________________________________________________________________\n",
            "dropout_2 (Dropout)          (None, 512)               0         \n",
            "_________________________________________________________________\n",
            "dense_3 (Dense)              (None, 10)                5130      \n",
            "=================================================================\n",
            "Total params: 669,706\n",
            "Trainable params: 669,706\n",
            "Non-trainable params: 0\n",
            "_________________________________________________________________\n"
          ],
          "name": "stdout"
        }
      ]
    },
    {
      "cell_type": "code",
      "metadata": {
        "id": "ODFiqBpK2ft2",
        "colab_type": "code",
        "outputId": "7f458178-6f43-4571-a8a6-58f299dd929d",
        "colab": {
          "base_uri": "https://localhost:8080/",
          "height": 1000
        }
      },
      "source": [
        "model.compile(loss='categorical_crossentropy',\n",
        "              optimizer=RMSprop(),\n",
        "              metrics=['accuracy'])\n",
        "\n",
        "history = model.fit(x_train, y_train,\n",
        "                    batch_size=batch_size,\n",
        "                    epochs=epochs,\n",
        "                    verbose=1,\n",
        "                    validation_data=(x_test, y_test))\n"
      ],
      "execution_count": 2,
      "outputs": [
        {
          "output_type": "stream",
          "text": [
            "W1119 08:51:24.043570 140547022583680 module_wrapper.py:139] From /usr/local/lib/python2.7/dist-packages/keras/optimizers.py:790: The name tf.train.Optimizer is deprecated. Please use tf.compat.v1.train.Optimizer instead.\n",
            "\n",
            "W1119 08:51:24.052351 140547022583680 module_wrapper.py:139] From /usr/local/lib/python2.7/dist-packages/keras/backend/tensorflow_backend.py:3295: The name tf.log is deprecated. Please use tf.math.log instead.\n",
            "\n",
            "W1119 08:51:24.164202 140547022583680 deprecation.py:323] From /usr/local/lib/python2.7/dist-packages/tensorflow_core/python/ops/math_grad.py:1424: where (from tensorflow.python.ops.array_ops) is deprecated and will be removed in a future version.\n",
            "Instructions for updating:\n",
            "Use tf.where in 2.0, which has the same broadcast rule as np.where\n",
            "W1119 08:51:24.311431 140547022583680 module_wrapper.py:139] From /usr/local/lib/python2.7/dist-packages/keras/backend/tensorflow_backend.py:986: The name tf.assign_add is deprecated. Please use tf.compat.v1.assign_add instead.\n",
            "\n",
            "W1119 08:51:24.319150 140547022583680 module_wrapper.py:139] From /usr/local/lib/python2.7/dist-packages/keras/backend/tensorflow_backend.py:973: The name tf.assign is deprecated. Please use tf.compat.v1.assign instead.\n",
            "\n",
            "W1119 08:51:24.377168 140547022583680 module_wrapper.py:139] From /usr/local/lib/python2.7/dist-packages/keras/backend/tensorflow_backend.py:2741: The name tf.Session is deprecated. Please use tf.compat.v1.Session instead.\n",
            "\n",
            "W1119 08:51:24.385063 140547022583680 module_wrapper.py:139] From /usr/local/lib/python2.7/dist-packages/keras/backend/tensorflow_backend.py:174: The name tf.get_default_session is deprecated. Please use tf.compat.v1.get_default_session instead.\n",
            "\n",
            "W1119 08:51:24.386054 140547022583680 module_wrapper.py:139] From /usr/local/lib/python2.7/dist-packages/keras/backend/tensorflow_backend.py:181: The name tf.ConfigProto is deprecated. Please use tf.compat.v1.ConfigProto instead.\n",
            "\n"
          ],
          "name": "stderr"
        },
        {
          "output_type": "stream",
          "text": [
            "Train on 60000 samples, validate on 10000 samples\n",
            "Epoch 1/20\n"
          ],
          "name": "stdout"
        },
        {
          "output_type": "stream",
          "text": [
            "W1119 08:51:25.704894 140547022583680 module_wrapper.py:139] From /usr/local/lib/python2.7/dist-packages/keras/backend/tensorflow_backend.py:190: The name tf.global_variables is deprecated. Please use tf.compat.v1.global_variables instead.\n",
            "\n",
            "W1119 08:51:25.707123 140547022583680 module_wrapper.py:139] From /usr/local/lib/python2.7/dist-packages/keras/backend/tensorflow_backend.py:199: The name tf.is_variable_initialized is deprecated. Please use tf.compat.v1.is_variable_initialized instead.\n",
            "\n",
            "W1119 08:51:25.808952 140547022583680 module_wrapper.py:139] From /usr/local/lib/python2.7/dist-packages/keras/backend/tensorflow_backend.py:206: The name tf.variables_initializer is deprecated. Please use tf.compat.v1.variables_initializer instead.\n",
            "\n"
          ],
          "name": "stderr"
        },
        {
          "output_type": "stream",
          "text": [
            "60000/60000 [==============================] - 8s 130us/step - loss: 0.2501 - acc: 0.9233 - val_loss: 0.1136 - val_acc: 0.9653\n",
            "Epoch 2/20\n",
            "60000/60000 [==============================] - 3s 47us/step - loss: 0.1024 - acc: 0.9688 - val_loss: 0.0968 - val_acc: 0.9718\n",
            "Epoch 3/20\n",
            "60000/60000 [==============================] - 3s 48us/step - loss: 0.0737 - acc: 0.9767 - val_loss: 0.0725 - val_acc: 0.9791\n",
            "Epoch 4/20\n",
            "60000/60000 [==============================] - 3s 47us/step - loss: 0.0605 - acc: 0.9819 - val_loss: 0.0792 - val_acc: 0.9773\n",
            "Epoch 5/20\n",
            "60000/60000 [==============================] - 3s 49us/step - loss: 0.0513 - acc: 0.9852 - val_loss: 0.0698 - val_acc: 0.9831\n",
            "Epoch 6/20\n",
            "60000/60000 [==============================] - 3s 48us/step - loss: 0.0415 - acc: 0.9876 - val_loss: 0.0696 - val_acc: 0.9824\n",
            "Epoch 7/20\n",
            "60000/60000 [==============================] - 3s 48us/step - loss: 0.0386 - acc: 0.9884 - val_loss: 0.0821 - val_acc: 0.9803\n",
            "Epoch 8/20\n",
            "60000/60000 [==============================] - 3s 47us/step - loss: 0.0349 - acc: 0.9897 - val_loss: 0.0846 - val_acc: 0.9816\n",
            "Epoch 9/20\n",
            "60000/60000 [==============================] - 3s 48us/step - loss: 0.0334 - acc: 0.9905 - val_loss: 0.0822 - val_acc: 0.9830\n",
            "Epoch 10/20\n",
            "60000/60000 [==============================] - 3s 48us/step - loss: 0.0289 - acc: 0.9919 - val_loss: 0.0896 - val_acc: 0.9835\n",
            "Epoch 11/20\n",
            "60000/60000 [==============================] - 3s 48us/step - loss: 0.0263 - acc: 0.9922 - val_loss: 0.0941 - val_acc: 0.9821\n",
            "Epoch 12/20\n",
            "60000/60000 [==============================] - 3s 48us/step - loss: 0.0275 - acc: 0.9922 - val_loss: 0.0929 - val_acc: 0.9823\n",
            "Epoch 13/20\n",
            "60000/60000 [==============================] - 3s 48us/step - loss: 0.0240 - acc: 0.9936 - val_loss: 0.1026 - val_acc: 0.9819\n",
            "Epoch 14/20\n",
            "60000/60000 [==============================] - 3s 48us/step - loss: 0.0234 - acc: 0.9936 - val_loss: 0.0876 - val_acc: 0.9845\n",
            "Epoch 15/20\n",
            "60000/60000 [==============================] - 3s 48us/step - loss: 0.0223 - acc: 0.9941 - val_loss: 0.1021 - val_acc: 0.9823\n",
            "Epoch 16/20\n",
            "60000/60000 [==============================] - 3s 49us/step - loss: 0.0226 - acc: 0.9942 - val_loss: 0.0858 - val_acc: 0.9851\n",
            "Epoch 17/20\n",
            "60000/60000 [==============================] - 3s 48us/step - loss: 0.0207 - acc: 0.9944 - val_loss: 0.1153 - val_acc: 0.9824\n",
            "Epoch 18/20\n",
            "60000/60000 [==============================] - 3s 47us/step - loss: 0.0211 - acc: 0.9948 - val_loss: 0.0982 - val_acc: 0.9851\n",
            "Epoch 19/20\n",
            "60000/60000 [==============================] - 3s 48us/step - loss: 0.0194 - acc: 0.9952 - val_loss: 0.0894 - val_acc: 0.9854\n",
            "Epoch 20/20\n",
            "60000/60000 [==============================] - 3s 48us/step - loss: 0.0196 - acc: 0.9953 - val_loss: 0.1080 - val_acc: 0.9836\n"
          ],
          "name": "stdout"
        }
      ]
    },
    {
      "cell_type": "code",
      "metadata": {
        "id": "2CvS_kMH2AZA",
        "colab_type": "code",
        "outputId": "b2c053dc-a909-49bf-b320-0538bfee1657",
        "colab": {
          "base_uri": "https://localhost:8080/",
          "height": 295
        }
      },
      "source": [
        "# Plots for training and testing process: loss and accuracy\n",
        "\n",
        "n_epochs = len(history.history['loss'])\n",
        "\n",
        "#plt.figure(0)\n",
        "#plt.plot(history.history['categorical_accuracy'],'r')\n",
        "#plt.plot(history.history['val_categorical_accuracy'],'g')\n",
        "#plt.xticks(np.arange(0, n_epochs, 10.0))\n",
        "#plt.rcParams['figure.figsize'] = (8, 6)\n",
        "#plt.xlabel(\"Num of Epochs\")\n",
        "#plt.ylabel(\"Accuracy\")\n",
        "#plt.title(\"Training Cat_Accuracy vs Validation Cat_Accuracy\")\n",
        "#plt.legend(['train','validation'])\n",
        "\n",
        "plt.figure(1)\n",
        "plt.plot(history.history['loss'],'r')\n",
        "plt.plot(history.history['val_loss'],'g')\n",
        "plt.xticks(np.arange(0, n_epochs, 10.0))\n",
        "plt.rcParams['figure.figsize'] = (8, 6)\n",
        "plt.xlabel(\"Num of Epochs\")\n",
        "plt.ylabel(\"Loss\")\n",
        "plt.title(\"Training Loss vs Validation Loss\")\n",
        "plt.legend(['train','validation'])\n",
        "plt.show()\n",
        "\n"
      ],
      "execution_count": 3,
      "outputs": [
        {
          "output_type": "display_data",
          "data": {
            "image/png": "[encoded data removed]",
            "text/plain": [
              "<Figure size 432x288 with 1 Axes>"
            ]
          },
          "metadata": {
            "tags": []
          }
        }
      ]
    },
    {
      "cell_type": "code",
      "metadata": {
        "id": "iP-G0XWN4yx6",
        "colab_type": "code",
        "outputId": "e9789513-c82b-4ba3-9f2a-5be3039e0343",
        "colab": {
          "base_uri": "https://localhost:8080/",
          "height": 52
        }
      },
      "source": [
        "score = model.evaluate(x_test, y_test, verbose=0)\n",
        "print('Test loss:', score[0])\n",
        "print('Test accuracy:', score[1])"
      ],
      "execution_count": 4,
      "outputs": [
        {
          "output_type": "stream",
          "text": [
            "Test loss: 0.10802339288748392\n",
            "Test accuracy: 0.9836\n"
          ],
          "name": "stdout"
        }
      ]
    },
    {
      "cell_type": "code",
      "metadata": {
        "id": "ymDUOVrh7CEr",
        "colab_type": "code",
        "outputId": "235949b8-6d2c-4e09-ab3c-e2ab6e5da834",
        "colab": {
          "base_uri": "https://localhost:8080/",
          "height": 34
        }
      },
      "source": [
        "\n",
        "# evaluate loaded model\n",
        "scores_train = model.evaluate(x_train, y_train, verbose=0)\n",
        "scores_test  = model.evaluate(x_test,  y_test,  verbose=0)\n",
        "\n",
        "print(\"Accuracy Train: %.2f%% , Test: %.2f%% \" % (scores_train[1]*100, scores_test[1]*100 ))"
      ],
      "execution_count": 5,
      "outputs": [
        {
          "output_type": "stream",
          "text": [
            "Accuracy Train: 99.88% , Test: 98.36% \n"
          ],
          "name": "stdout"
        }
      ]
    },
    {
      "cell_type": "code",
      "metadata": {
        "id": "j-F7uuLF6-8g",
        "colab_type": "code",
        "outputId": "858ef11a-8b18-47e6-e94e-628bb8a6d251",
        "colab": {
          "base_uri": "https://localhost:8080/",
          "height": 1000
        }
      },
      "source": [
        "# Confusion matrix result\n",
        "\n",
        "from sklearn.metrics import classification_report, confusion_matrix\n",
        "Y_pred = model.predict(x_test, verbose=2)\n",
        "\n",
        "y_pred = np.argmax(Y_pred, axis=1)\n",
        "\n",
        "y_test2 = np.argmax(y_test, axis=1)\n",
        "\n",
        "\n",
        "\n",
        "#confusion matrix\n",
        "cm = confusion_matrix(np.argmax(y_test,axis=1),y_pred)\n",
        "print(cm)\n",
        "\n",
        "# Visualizing of confusion matrix\n",
        "import seaborn as sn\n",
        "import pandas  as pd\n",
        "\n",
        "\n",
        "df_cm = pd.DataFrame(cm, range(10),range(10))\n",
        "#                     range(num_classes),\n",
        "#                  range(num_classes))\n",
        "#plt.figure(figsize = (10,7))\n",
        "plt.figure(2,figsize = (15,15) )\n",
        "sn.set(font_scale=1.4) #for label size\n",
        "sn.heatmap(df_cm, annot=True,annot_kws={\"size\": 12})# font size\n",
        "plt.show()\n"
      ],
      "execution_count": 6,
      "outputs": [
        {
          "output_type": "stream",
          "text": [
            "[[ 971    1    2    1    0    0    1    0    3    1]\n",
            " [   0 1125    3    1    0    0    2    1    3    0]\n",
            " [   1    0 1020    1    1    0    3    5    1    0]\n",
            " [   0    0    6  993    0    2    0    4    0    5]\n",
            " [   2    0    2    0  959    1    4    3    1   10]\n",
            " [   3    0    0    6    1  873    4    1    4    0]\n",
            " [   3    2    1    0    2    3  944    0    3    0]\n",
            " [   1    0    7    0    0    0    0 1012    4    4]\n",
            " [   2    1    7    2    2    3    1    3  950    3]\n",
            " [   1    3    0    2    5    1    0    5    3  989]]\n"
          ],
          "name": "stdout"
        },
        {
          "output_type": "display_data",
          "data": {
            "image/png": "[encoded data removed]",
            "text/plain": [
              "<Figure size 1080x1080 with 2 Axes>"
            ]
          },
          "metadata": {
            "tags": []
          }
        }
      ]
    }
  ]
}