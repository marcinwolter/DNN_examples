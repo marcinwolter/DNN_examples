{
  "nbformat": 4,
  "nbformat_minor": 0,
  "metadata": {
    "colab": {
      "name": "mnist_cnn.ipynb",
      "provenance": [],
      "collapsed_sections": [],
      "include_colab_link": true
    },
    "kernelspec": {
      "name": "python2",
      "display_name": "Python 2"
    },
    "accelerator": "GPU"
  },
  "cells": [
    {
      "cell_type": "markdown",
      "metadata": {
        "id": "view-in-github",
        "colab_type": "text"
      },
      "source": [
        "<a href=\"https://colab.research.google.com/github/marcinwolter/DNN_examples/blob/master/mnist_cnn.ipynb\" target=\"_parent\"><img src=\"https://colab.research.google.com/assets/colab-badge.svg\" alt=\"Open In Colab\"/></a>"
      ]
    },
    {
      "cell_type": "code",
      "metadata": {
        "id": "Sy1rzspVvmXD",
        "colab_type": "code",
        "outputId": "544488b9-9e10-4ce5-9a88-e6ec39b1ade5",
        "colab": {
          "base_uri": "https://localhost:8080/",
          "height": 1000
        }
      },
      "source": [
        "'''Trains a simple convnet on the MNIST dataset.\n",
        "\n",
        "Gets to 99.25% test accuracy after 12 epochs\n",
        "(there is still a lot of margin for parameter tuning).\n",
        "16 seconds per epoch on a GRID K520 GPU.\n",
        "'''\n",
        "\n",
        "!pip install keras_sequential_ascii\n",
        "\n",
        "import matplotlib.pyplot as plt\n",
        "import numpy as np\n",
        "\n",
        "from __future__ import print_function\n",
        "import keras\n",
        "from keras.datasets import mnist\n",
        "from keras.models import Sequential\n",
        "from keras.layers import Dense, Dropout, Flatten\n",
        "from keras.layers import Conv2D, MaxPooling2D\n",
        "from keras import backend as K\n",
        "from keras_sequential_ascii import sequential_model_to_ascii_printout\n",
        "\n",
        "batch_size = 128\n",
        "num_classes = 10\n",
        "epochs = 20 #12\n",
        "\n",
        "# input image dimensions\n",
        "img_rows, img_cols = 28, 28\n",
        "\n",
        "# the data, split between train and test sets\n",
        "(x_train, y_train), (x_test, y_test) = mnist.load_data()\n",
        "\n",
        "if K.image_data_format() == 'channels_first':\n",
        "    x_train = x_train.reshape(x_train.shape[0], 1, img_rows, img_cols)\n",
        "    x_test = x_test.reshape(x_test.shape[0], 1, img_rows, img_cols)\n",
        "    input_shape = (1, img_rows, img_cols)\n",
        "else:\n",
        "    x_train = x_train.reshape(x_train.shape[0], img_rows, img_cols, 1)\n",
        "    x_test = x_test.reshape(x_test.shape[0], img_rows, img_cols, 1)\n",
        "    input_shape = (img_rows, img_cols, 1)\n",
        "\n",
        "x_train = x_train.astype('float32')\n",
        "x_test = x_test.astype('float32')\n",
        "x_train /= 255\n",
        "x_test /= 255\n",
        "print('x_train shape:', x_train.shape)\n",
        "print(x_train.shape[0], 'train samples')\n",
        "print(x_test.shape[0], 'test samples')\n",
        "\n",
        "# convert class vectors to binary class matrices\n",
        "y_train = keras.utils.to_categorical(y_train, num_classes)\n",
        "y_test = keras.utils.to_categorical(y_test, num_classes)\n",
        "\n",
        "model = Sequential()\n",
        "model.add(Conv2D(32, kernel_size=(3, 3),\n",
        "                 activation='relu',\n",
        "                 input_shape=input_shape))\n",
        "model.add(Conv2D(64, (3, 3), activation='relu'))\n",
        "model.add(MaxPooling2D(pool_size=(2, 2)))\n",
        "model.add(Dropout(0.25))\n",
        "model.add(Flatten())\n",
        "model.add(Dense(128, activation='relu'))\n",
        "model.add(Dropout(0.5))\n",
        "model.add(Dense(num_classes, activation='softmax'))\n",
        "\n",
        "model.compile(loss=keras.losses.categorical_crossentropy,\n",
        "              optimizer=keras.optimizers.Adadelta(),\n",
        "              metrics=['accuracy'])\n",
        "\n",
        "# Vizualizing model structure\n",
        "\n",
        "sequential_model_to_ascii_printout(model)\n",
        "\n"
      ],
      "execution_count": 1,
      "outputs": [
        {
          "output_type": "stream",
          "text": [
            "Collecting keras_sequential_ascii\n",
            "  Downloading https://files.pythonhosted.org/packages/2d/a4/806e3ed5d7ac7463e2fae77e09ccccc88c78266b248fb637e4efa4f65ec0/keras_sequential_ascii-0.1.1.tar.gz\n",
            "Requirement already satisfied: keras in /usr/local/lib/python2.7/dist-packages (from keras_sequential_ascii) (2.2.4)\n",
            "Requirement already satisfied: keras-applications>=1.0.6 in /usr/local/lib/python2.7/dist-packages (from keras->keras_sequential_ascii) (1.0.8)\n",
            "Requirement already satisfied: numpy>=1.9.1 in /usr/local/lib/python2.7/dist-packages (from keras->keras_sequential_ascii) (1.16.4)\n",
            "Requirement already satisfied: keras-preprocessing>=1.0.5 in /usr/local/lib/python2.7/dist-packages (from keras->keras_sequential_ascii) (1.1.0)\n",
            "Requirement already satisfied: h5py in /usr/local/lib/python2.7/dist-packages (from keras->keras_sequential_ascii) (2.8.0)\n",
            "Requirement already satisfied: scipy>=0.14 in /usr/local/lib/python2.7/dist-packages (from keras->keras_sequential_ascii) (1.2.2)\n",
            "Requirement already satisfied: pyyaml in /usr/local/lib/python2.7/dist-packages (from keras->keras_sequential_ascii) (3.13)\n",
            "Requirement already satisfied: six>=1.9.0 in /usr/local/lib/python2.7/dist-packages (from keras->keras_sequential_ascii) (1.12.0)\n",
            "Building wheels for collected packages: keras-sequential-ascii\n",
            "  Building wheel for keras-sequential-ascii (setup.py) ... \u001b[?25l\u001b[?25hdone\n",
            "  Created wheel for keras-sequential-ascii: filename=keras_sequential_ascii-0.1.1-cp27-none-any.whl size=3062 sha256=b7779b8f5d4a542142e608f32926843a55c1e67a4f4b891b1177184530bfe576\n",
            "  Stored in directory: /root/.cache/pip/wheels/f5/8d/81/912666dff82a923ce423a7e797cd75f54271c7031512cdb282\n",
            "Successfully built keras-sequential-ascii\n",
            "Installing collected packages: keras-sequential-ascii\n",
            "Successfully installed keras-sequential-ascii-0.1.1\n"
          ],
          "name": "stdout"
        },
        {
          "output_type": "stream",
          "text": [
            "Using TensorFlow backend.\n"
          ],
          "name": "stderr"
        },
        {
          "output_type": "display_data",
          "data": {
            "text/plain": [
              "<IPython.core.display.HTML object>"
            ],
            "text/html": [
              "<p style=\"color: red;\">\n",
              "The default version of TensorFlow in Colab will soon switch to TensorFlow 2.x.<br>\n",
              "We recommend you <a href=\"https://www.tensorflow.org/guide/migrate\" target=\"_blank\">upgrade</a> now \n",
              "or ensure your notebook will continue to use TensorFlow 1.x via the <code>%tensorflow_version 1.x</code> magic:\n",
              "<a href=\"https://colab.research.google.com/notebooks/tensorflow_version.ipynb\" target=\"_blank\">more info</a>.</p>\n"
            ]
          },
          "metadata": {
            "tags": []
          }
        },
        {
          "output_type": "stream",
          "text": [
            "Downloading data from https://s3.amazonaws.com/img-datasets/mnist.npz\n",
            "11493376/11490434 [==============================] - 1s 0us/step\n",
            "11501568/11490434 [==============================] - 1s 0us/step\n"
          ],
          "name": "stdout"
        },
        {
          "output_type": "stream",
          "text": [
            "WARNING: Logging before flag parsing goes to stderr.\n",
            "W1119 08:56:16.301044 140512422369152 module_wrapper.py:139] From /usr/local/lib/python2.7/dist-packages/keras/backend/tensorflow_backend.py:74: The name tf.get_default_graph is deprecated. Please use tf.compat.v1.get_default_graph instead.\n",
            "\n",
            "W1119 08:56:16.308075 140512422369152 module_wrapper.py:139] From /usr/local/lib/python2.7/dist-packages/keras/backend/tensorflow_backend.py:517: The name tf.placeholder is deprecated. Please use tf.compat.v1.placeholder instead.\n",
            "\n",
            "W1119 08:56:16.315001 140512422369152 module_wrapper.py:139] From /usr/local/lib/python2.7/dist-packages/keras/backend/tensorflow_backend.py:4138: The name tf.random_uniform is deprecated. Please use tf.random.uniform instead.\n",
            "\n",
            "W1119 08:56:16.346708 140512422369152 module_wrapper.py:139] From /usr/local/lib/python2.7/dist-packages/keras/backend/tensorflow_backend.py:3976: The name tf.nn.max_pool is deprecated. Please use tf.nn.max_pool2d instead.\n",
            "\n",
            "W1119 08:56:16.350788 140512422369152 module_wrapper.py:139] From /usr/local/lib/python2.7/dist-packages/keras/backend/tensorflow_backend.py:133: The name tf.placeholder_with_default is deprecated. Please use tf.compat.v1.placeholder_with_default instead.\n",
            "\n",
            "W1119 08:56:16.358180 140512422369152 deprecation.py:506] From /usr/local/lib/python2.7/dist-packages/keras/backend/tensorflow_backend.py:3445: calling dropout (from tensorflow.python.ops.nn_ops) with keep_prob is deprecated and will be removed in a future version.\n",
            "Instructions for updating:\n",
            "Please use `rate` instead of `keep_prob`. Rate should be set to `rate = 1 - keep_prob`.\n",
            "W1119 08:56:16.405621 140512422369152 module_wrapper.py:139] From /usr/local/lib/python2.7/dist-packages/keras/optimizers.py:790: The name tf.train.Optimizer is deprecated. Please use tf.compat.v1.train.Optimizer instead.\n",
            "\n",
            "W1119 08:56:16.411521 140512422369152 module_wrapper.py:139] From /usr/local/lib/python2.7/dist-packages/keras/backend/tensorflow_backend.py:3295: The name tf.log is deprecated. Please use tf.math.log instead.\n",
            "\n"
          ],
          "name": "stderr"
        },
        {
          "output_type": "stream",
          "text": [
            "x_train shape: (60000, 28, 28, 1)\n",
            "60000 train samples\n",
            "10000 test samples\n",
            "           OPERATION           DATA DIMENSIONS   WEIGHTS(N)   WEIGHTS(%)\n",
            "\n",
            "               Input   #####     28   28    1\n",
            "              Conv2D    \\|/  -------------------       320     0.0%\n",
            "                relu   #####     26   26   32\n",
            "              Conv2D    \\|/  -------------------     18496     1.0%\n",
            "                relu   #####     24   24   64\n",
            "        MaxPooling2D   Y max -------------------         0     0.0%\n",
            "                       #####     12   12   64\n",
            "             Dropout    | || -------------------         0     0.0%\n",
            "                       #####     12   12   64\n",
            "             Flatten   ||||| -------------------         0     0.0%\n",
            "                       #####        9216\n",
            "               Dense   XXXXX -------------------   1179776    98.0%\n",
            "                relu   #####         128\n",
            "             Dropout    | || -------------------         0     0.0%\n",
            "                       #####         128\n",
            "               Dense   XXXXX -------------------      1290     0.0%\n",
            "             softmax   #####          10\n"
          ],
          "name": "stdout"
        }
      ]
    },
    {
      "cell_type": "code",
      "metadata": {
        "id": "0AGUbWEHDKmT",
        "colab_type": "code",
        "outputId": "0a056180-9e7e-41ca-922e-bb73ca01f660",
        "colab": {
          "base_uri": "https://localhost:8080/",
          "height": 1000
        }
      },
      "source": [
        "\n",
        "history = model.fit(x_train, y_train,\n",
        "          batch_size=batch_size,\n",
        "          epochs=epochs,\n",
        "          verbose=1,\n",
        "          validation_data=(x_test, y_test))\n"
      ],
      "execution_count": 2,
      "outputs": [
        {
          "output_type": "stream",
          "text": [
            "W1119 08:56:16.517687 140512422369152 deprecation.py:323] From /usr/local/lib/python2.7/dist-packages/tensorflow_core/python/ops/math_grad.py:1424: where (from tensorflow.python.ops.array_ops) is deprecated and will be removed in a future version.\n",
            "Instructions for updating:\n",
            "Use tf.where in 2.0, which has the same broadcast rule as np.where\n",
            "W1119 08:56:16.661892 140512422369152 module_wrapper.py:139] From /usr/local/lib/python2.7/dist-packages/keras/backend/tensorflow_backend.py:986: The name tf.assign_add is deprecated. Please use tf.compat.v1.assign_add instead.\n",
            "\n",
            "W1119 08:56:16.667282 140512422369152 module_wrapper.py:139] From /usr/local/lib/python2.7/dist-packages/keras/backend/tensorflow_backend.py:973: The name tf.assign is deprecated. Please use tf.compat.v1.assign instead.\n",
            "\n",
            "W1119 08:56:16.762370 140512422369152 module_wrapper.py:139] From /usr/local/lib/python2.7/dist-packages/keras/backend/tensorflow_backend.py:2741: The name tf.Session is deprecated. Please use tf.compat.v1.Session instead.\n",
            "\n",
            "W1119 08:56:16.768459 140512422369152 module_wrapper.py:139] From /usr/local/lib/python2.7/dist-packages/keras/backend/tensorflow_backend.py:174: The name tf.get_default_session is deprecated. Please use tf.compat.v1.get_default_session instead.\n",
            "\n",
            "W1119 08:56:16.769169 140512422369152 module_wrapper.py:139] From /usr/local/lib/python2.7/dist-packages/keras/backend/tensorflow_backend.py:181: The name tf.ConfigProto is deprecated. Please use tf.compat.v1.ConfigProto instead.\n",
            "\n"
          ],
          "name": "stderr"
        },
        {
          "output_type": "stream",
          "text": [
            "Train on 60000 samples, validate on 10000 samples\n",
            "Epoch 1/20\n"
          ],
          "name": "stdout"
        },
        {
          "output_type": "stream",
          "text": [
            "W1119 08:56:18.201797 140512422369152 module_wrapper.py:139] From /usr/local/lib/python2.7/dist-packages/keras/backend/tensorflow_backend.py:190: The name tf.global_variables is deprecated. Please use tf.compat.v1.global_variables instead.\n",
            "\n",
            "W1119 08:56:18.203248 140512422369152 module_wrapper.py:139] From /usr/local/lib/python2.7/dist-packages/keras/backend/tensorflow_backend.py:199: The name tf.is_variable_initialized is deprecated. Please use tf.compat.v1.is_variable_initialized instead.\n",
            "\n",
            "W1119 08:56:18.302464 140512422369152 module_wrapper.py:139] From /usr/local/lib/python2.7/dist-packages/keras/backend/tensorflow_backend.py:206: The name tf.variables_initializer is deprecated. Please use tf.compat.v1.variables_initializer instead.\n",
            "\n"
          ],
          "name": "stderr"
        },
        {
          "output_type": "stream",
          "text": [
            "60000/60000 [==============================] - 14s 228us/step - loss: 0.2771 - acc: 0.9147 - val_loss: 0.0574 - val_acc: 0.9816\n",
            "Epoch 2/20\n",
            "60000/60000 [==============================] - 5s 79us/step - loss: 0.0899 - acc: 0.9738 - val_loss: 0.0409 - val_acc: 0.9866\n",
            "Epoch 3/20\n",
            "60000/60000 [==============================] - 5s 80us/step - loss: 0.0674 - acc: 0.9803 - val_loss: 0.0349 - val_acc: 0.9889\n",
            "Epoch 4/20\n",
            "60000/60000 [==============================] - 5s 80us/step - loss: 0.0549 - acc: 0.9834 - val_loss: 0.0327 - val_acc: 0.9889\n",
            "Epoch 5/20\n",
            "60000/60000 [==============================] - 5s 80us/step - loss: 0.0469 - acc: 0.9859 - val_loss: 0.0283 - val_acc: 0.9906\n",
            "Epoch 6/20\n",
            "60000/60000 [==============================] - 5s 80us/step - loss: 0.0431 - acc: 0.9871 - val_loss: 0.0319 - val_acc: 0.9895\n",
            "Epoch 7/20\n",
            "60000/60000 [==============================] - 5s 80us/step - loss: 0.0366 - acc: 0.9888 - val_loss: 0.0276 - val_acc: 0.9912\n",
            "Epoch 8/20\n",
            "60000/60000 [==============================] - 5s 80us/step - loss: 0.0341 - acc: 0.9893 - val_loss: 0.0264 - val_acc: 0.9919\n",
            "Epoch 9/20\n",
            "60000/60000 [==============================] - 5s 79us/step - loss: 0.0297 - acc: 0.9906 - val_loss: 0.0278 - val_acc: 0.9905\n",
            "Epoch 10/20\n",
            "60000/60000 [==============================] - 5s 79us/step - loss: 0.0293 - acc: 0.9908 - val_loss: 0.0254 - val_acc: 0.9924\n",
            "Epoch 11/20\n",
            "60000/60000 [==============================] - 5s 80us/step - loss: 0.0269 - acc: 0.9917 - val_loss: 0.0267 - val_acc: 0.9924\n",
            "Epoch 12/20\n",
            "60000/60000 [==============================] - 5s 80us/step - loss: 0.0263 - acc: 0.9920 - val_loss: 0.0310 - val_acc: 0.9920\n",
            "Epoch 13/20\n",
            "60000/60000 [==============================] - 5s 80us/step - loss: 0.0243 - acc: 0.9925 - val_loss: 0.0276 - val_acc: 0.9916\n",
            "Epoch 14/20\n",
            "60000/60000 [==============================] - 5s 80us/step - loss: 0.0244 - acc: 0.9922 - val_loss: 0.0259 - val_acc: 0.9929\n",
            "Epoch 15/20\n",
            "60000/60000 [==============================] - 5s 80us/step - loss: 0.0228 - acc: 0.9929 - val_loss: 0.0281 - val_acc: 0.9924\n",
            "Epoch 16/20\n",
            "60000/60000 [==============================] - 5s 79us/step - loss: 0.0222 - acc: 0.9929 - val_loss: 0.0296 - val_acc: 0.9916\n",
            "Epoch 17/20\n",
            "60000/60000 [==============================] - 5s 80us/step - loss: 0.0210 - acc: 0.9933 - val_loss: 0.0280 - val_acc: 0.9928\n",
            "Epoch 18/20\n",
            "60000/60000 [==============================] - 5s 79us/step - loss: 0.0198 - acc: 0.9938 - val_loss: 0.0283 - val_acc: 0.9921\n",
            "Epoch 19/20\n",
            "60000/60000 [==============================] - 5s 79us/step - loss: 0.0191 - acc: 0.9939 - val_loss: 0.0248 - val_acc: 0.9925\n",
            "Epoch 20/20\n",
            "60000/60000 [==============================] - 5s 80us/step - loss: 0.0190 - acc: 0.9942 - val_loss: 0.0271 - val_acc: 0.9921\n"
          ],
          "name": "stdout"
        }
      ]
    },
    {
      "cell_type": "code",
      "metadata": {
        "id": "2CvS_kMH2AZA",
        "colab_type": "code",
        "outputId": "bfbf4bca-9677-472f-c2b4-bd72773abcca",
        "colab": {
          "base_uri": "https://localhost:8080/",
          "height": 295
        }
      },
      "source": [
        "# Plots for training and testing process: loss and accuracy\n",
        "\n",
        "n_epochs = len(history.history['loss'])\n",
        "\n",
        "#plt.figure(0)\n",
        "#plt.plot(history.history['categorical_accuracy'],'r')\n",
        "#plt.plot(history.history['val_categorical_accuracy'],'g')\n",
        "#plt.xticks(np.arange(0, n_epochs, 10.0))\n",
        "#plt.rcParams['figure.figsize'] = (8, 6)\n",
        "#plt.xlabel(\"Num of Epochs\")\n",
        "#plt.ylabel(\"Accuracy\")\n",
        "#plt.title(\"Training Cat_Accuracy vs Validation Cat_Accuracy\")\n",
        "#plt.legend(['train','validation'])\n",
        "\n",
        "plt.figure(1)\n",
        "plt.plot(history.history['loss'],'r')\n",
        "plt.plot(history.history['val_loss'],'g')\n",
        "plt.xticks(np.arange(0, n_epochs, 10.0))\n",
        "plt.rcParams['figure.figsize'] = (8, 6)\n",
        "plt.xlabel(\"Num of Epochs\")\n",
        "plt.ylabel(\"Loss\")\n",
        "plt.title(\"Training Loss vs Validation Loss\")\n",
        "plt.legend(['train','validation'])\n",
        "plt.show()\n",
        "\n"
      ],
      "execution_count": 3,
      "outputs": [
        {
          "output_type": "display_data",
          "data": {
            "image/png": "[encoded data removed]",
            "text/plain": [
              "<Figure size 432x288 with 1 Axes>"
            ]
          },
          "metadata": {
            "tags": []
          }
        }
      ]
    },
    {
      "cell_type": "code",
      "metadata": {
        "id": "qyz4oCs9DO8a",
        "colab_type": "code",
        "outputId": "0d04ec8c-a56a-4c5f-858c-bf97d213efeb",
        "colab": {
          "base_uri": "https://localhost:8080/",
          "height": 52
        }
      },
      "source": [
        "score = model.evaluate(x_test, y_test, verbose=0)\n",
        "print('Test loss:', score[0])\n",
        "print('Test accuracy:', score[1])"
      ],
      "execution_count": 4,
      "outputs": [
        {
          "output_type": "stream",
          "text": [
            "Test loss: 0.02714657312202439\n",
            "Test accuracy: 0.9921\n"
          ],
          "name": "stdout"
        }
      ]
    },
    {
      "cell_type": "code",
      "metadata": {
        "id": "ymDUOVrh7CEr",
        "colab_type": "code",
        "outputId": "2dc1f4d9-d8dd-4304-f5ee-dd6f1f3d050e",
        "colab": {
          "base_uri": "https://localhost:8080/",
          "height": 34
        }
      },
      "source": [
        "\n",
        "# evaluate loaded model\n",
        "scores_train = model.evaluate(x_train, y_train, verbose=0)\n",
        "scores_test  = model.evaluate(x_test,  y_test,  verbose=0)\n",
        "\n",
        "print(\"Accuracy Train: %.2f%% , Test: %.2f%% \" % (scores_train[1]*100, scores_test[1]*100 ))"
      ],
      "execution_count": 5,
      "outputs": [
        {
          "output_type": "stream",
          "text": [
            "Accuracy Train: 99.89% , Test: 99.21% \n"
          ],
          "name": "stdout"
        }
      ]
    },
    {
      "cell_type": "code",
      "metadata": {
        "id": "j-F7uuLF6-8g",
        "colab_type": "code",
        "outputId": "8dd620b0-a48d-4c85-bced-9ddb48a5f2ce",
        "colab": {
          "base_uri": "https://localhost:8080/",
          "height": 1000
        }
      },
      "source": [
        "# Confusion matrix result\n",
        "\n",
        "from sklearn.metrics import classification_report, confusion_matrix\n",
        "Y_pred = model.predict(x_test, verbose=2)\n",
        "\n",
        "y_pred = np.argmax(Y_pred, axis=1)\n",
        "\n",
        "y_test2 = np.argmax(y_test, axis=1)\n",
        "\n",
        "\n",
        "\n",
        "#confusion matrix\n",
        "cm = confusion_matrix(np.argmax(y_test,axis=1),y_pred)\n",
        "print(cm)\n",
        "\n",
        "# Visualizing of confusion matrix\n",
        "import seaborn as sn\n",
        "import pandas  as pd\n",
        "\n",
        "\n",
        "df_cm = pd.DataFrame(cm, range(10),range(10))\n",
        "#                     range(num_classes),\n",
        "#                  range(num_classes))\n",
        "#plt.figure(figsize = (10,7))\n",
        "plt.figure(2,figsize = (15,15) )\n",
        "sn.set(font_scale=1.4) #for label size\n",
        "sn.heatmap(df_cm, annot=True,annot_kws={\"size\": 12})# font size\n",
        "plt.show()\n"
      ],
      "execution_count": 6,
      "outputs": [
        {
          "output_type": "stream",
          "text": [
            "[[ 974    1    2    0    0    0    1    1    1    0]\n",
            " [   0 1135    0    0    0    0    0    0    0    0]\n",
            " [   1    2 1024    0    0    0    0    5    0    0]\n",
            " [   0    0    2 1006    0    1    0    0    1    0]\n",
            " [   0    0    1    0  976    0    2    0    0    3]\n",
            " [   1    0    1    5    0  884    1    0    0    0]\n",
            " [   4    2    1    0    1    2  945    0    3    0]\n",
            " [   0    2    3    1    0    0    0 1021    1    0]\n",
            " [   1    1    2    1    0    0    0    1  966    2]\n",
            " [   1    1    0    0    4    3    0    7    3  990]]\n"
          ],
          "name": "stdout"
        },
        {
          "output_type": "display_data",
          "data": {
            "image/png": "[encoded data removed]",
            "text/plain": [
              "<Figure size 1080x1080 with 2 Axes>"
            ]
          },
          "metadata": {
            "tags": []
          }
        }
      ]
    }
  ]
}