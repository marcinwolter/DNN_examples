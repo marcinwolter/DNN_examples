{
  "nbformat": 4,
  "nbformat_minor": 0,
  "metadata": {
    "colab": {
      "name": "mnist_cnn.ipynb",
      "provenance": [],
      "collapsed_sections": [],
      "include_colab_link": true
    },
    "kernelspec": {
      "name": "python3",
      "display_name": "Python 3"
    },
    "accelerator": "GPU"
  },
  "cells": [
    {
      "cell_type": "markdown",
      "metadata": {
        "id": "view-in-github",
        "colab_type": "text"
      },
      "source": [
        "<a href=\"https://colab.research.google.com/github/marcinwolter/DNN_examples/blob/master/mnist_cnn.ipynb\" target=\"_parent\"><img src=\"https://colab.research.google.com/assets/colab-badge.svg\" alt=\"Open In Colab\"/></a>"
      ]
    },
    {
      "cell_type": "code",
      "metadata": {
        "id": "Sy1rzspVvmXD",
        "colab_type": "code",
        "outputId": "406773dd-cd89-44e2-c12b-8d1e1a4cb7ae",
        "colab": {
          "base_uri": "https://localhost:8080/",
          "height": 1000
        }
      },
      "source": [
        "'''Trains a simple convnet on the MNIST dataset.\n",
        "\n",
        "Gets to 99.25% test accuracy after 12 epochs\n",
        "(there is still a lot of margin for parameter tuning).\n",
        "16 seconds per epoch on a GRID K520 GPU.\n",
        "'''\n",
        "\n",
        "!pip install keras_sequential_ascii\n",
        "\n",
        "import matplotlib.pyplot as plt\n",
        "import numpy as np\n",
        "\n",
        "from __future__ import print_function\n",
        "import keras\n",
        "from keras.datasets import mnist\n",
        "from keras.models import Sequential\n",
        "from keras.layers import Dense, Dropout, Flatten\n",
        "from keras.layers import Conv2D, MaxPooling2D\n",
        "from keras import backend as K\n",
        "from keras_sequential_ascii import sequential_model_to_ascii_printout\n",
        "\n",
        "batch_size = 128\n",
        "num_classes = 10\n",
        "epochs = 20 #12\n",
        "\n",
        "# input image dimensions\n",
        "img_rows, img_cols = 28, 28\n",
        "\n",
        "# the data, split between train and test sets\n",
        "(x_train, y_train), (x_test, y_test) = mnist.load_data()\n",
        "\n",
        "if K.image_data_format() == 'channels_first':\n",
        "    x_train = x_train.reshape(x_train.shape[0], 1, img_rows, img_cols)\n",
        "    x_test = x_test.reshape(x_test.shape[0], 1, img_rows, img_cols)\n",
        "    input_shape = (1, img_rows, img_cols)\n",
        "else:\n",
        "    x_train = x_train.reshape(x_train.shape[0], img_rows, img_cols, 1)\n",
        "    x_test = x_test.reshape(x_test.shape[0], img_rows, img_cols, 1)\n",
        "    input_shape = (img_rows, img_cols, 1)\n",
        "\n",
        "x_train = x_train.astype('float32')\n",
        "x_test = x_test.astype('float32')\n",
        "x_train /= 255\n",
        "x_test /= 255\n",
        "print('x_train shape:', x_train.shape)\n",
        "print(x_train.shape[0], 'train samples')\n",
        "print(x_test.shape[0], 'test samples')\n",
        "\n",
        "# convert class vectors to binary class matrices\n",
        "y_train = keras.utils.to_categorical(y_train, num_classes)\n",
        "y_test = keras.utils.to_categorical(y_test, num_classes)\n",
        "\n",
        "model = Sequential()\n",
        "model.add(Conv2D(32, kernel_size=(3, 3),\n",
        "                 activation='relu',\n",
        "                 input_shape=input_shape))\n",
        "model.add(Conv2D(64, (3, 3), activation='relu'))\n",
        "model.add(MaxPooling2D(pool_size=(2, 2)))\n",
        "model.add(Dropout(0.25))\n",
        "model.add(Flatten())\n",
        "model.add(Dense(128, activation='relu'))\n",
        "model.add(Dropout(0.5))\n",
        "model.add(Dense(num_classes, activation='softmax'))\n",
        "\n",
        "model.compile(loss=keras.losses.categorical_crossentropy,\n",
        "              optimizer=keras.optimizers.Adadelta(),\n",
        "              metrics=['accuracy'])\n",
        "\n",
        "# Vizualizing model structure\n",
        "\n",
        "sequential_model_to_ascii_printout(model)\n",
        "\n"
      ],
      "execution_count": 1,
      "outputs": [
        {
          "output_type": "stream",
          "text": [
            "Collecting keras_sequential_ascii\n",
            "  Downloading https://files.pythonhosted.org/packages/2d/a4/806e3ed5d7ac7463e2fae77e09ccccc88c78266b248fb637e4efa4f65ec0/keras_sequential_ascii-0.1.1.tar.gz\n",
            "Requirement already satisfied: keras in /usr/local/lib/python3.6/dist-packages (from keras_sequential_ascii) (2.2.5)\n",
            "Requirement already satisfied: keras-applications>=1.0.8 in /usr/local/lib/python3.6/dist-packages (from keras->keras_sequential_ascii) (1.0.8)\n",
            "Requirement already satisfied: pyyaml in /usr/local/lib/python3.6/dist-packages (from keras->keras_sequential_ascii) (3.13)\n",
            "Requirement already satisfied: six>=1.9.0 in /usr/local/lib/python3.6/dist-packages (from keras->keras_sequential_ascii) (1.12.0)\n",
            "Requirement already satisfied: numpy>=1.9.1 in /usr/local/lib/python3.6/dist-packages (from keras->keras_sequential_ascii) (1.17.4)\n",
            "Requirement already satisfied: scipy>=0.14 in /usr/local/lib/python3.6/dist-packages (from keras->keras_sequential_ascii) (1.3.3)\n",
            "Requirement already satisfied: keras-preprocessing>=1.1.0 in /usr/local/lib/python3.6/dist-packages (from keras->keras_sequential_ascii) (1.1.0)\n",
            "Requirement already satisfied: h5py in /usr/local/lib/python3.6/dist-packages (from keras->keras_sequential_ascii) (2.8.0)\n",
            "Building wheels for collected packages: keras-sequential-ascii\n",
            "  Building wheel for keras-sequential-ascii (setup.py) ... \u001b[?25l\u001b[?25hdone\n",
            "  Created wheel for keras-sequential-ascii: filename=keras_sequential_ascii-0.1.1-cp36-none-any.whl size=3062 sha256=f2ed29925feeb5414b2bc94f64546ac67fde421a4be9e490c0bc2be19f24fd45\n",
            "  Stored in directory: /root/.cache/pip/wheels/f5/8d/81/912666dff82a923ce423a7e797cd75f54271c7031512cdb282\n",
            "Successfully built keras-sequential-ascii\n",
            "Installing collected packages: keras-sequential-ascii\n",
            "Successfully installed keras-sequential-ascii-0.1.1\n"
          ],
          "name": "stdout"
        },
        {
          "output_type": "stream",
          "text": [
            "Using TensorFlow backend.\n"
          ],
          "name": "stderr"
        },
        {
          "output_type": "display_data",
          "data": {
            "text/html": [
              "<p style=\"color: red;\">\n",
              "The default version of TensorFlow in Colab will soon switch to TensorFlow 2.x.<br>\n",
              "We recommend you <a href=\"https://www.tensorflow.org/guide/migrate\" target=\"_blank\">upgrade</a> now \n",
              "or ensure your notebook will continue to use TensorFlow 1.x via the <code>%tensorflow_version 1.x</code> magic:\n",
              "<a href=\"https://colab.research.google.com/notebooks/tensorflow_version.ipynb\" target=\"_blank\">more info</a>.</p>\n"
            ],
            "text/plain": [
              "<IPython.core.display.HTML object>"
            ]
          },
          "metadata": {
            "tags": []
          }
        },
        {
          "output_type": "stream",
          "text": [
            "Downloading data from https://s3.amazonaws.com/img-datasets/mnist.npz\n",
            "11493376/11490434 [==============================] - 1s 0us/step\n",
            "x_train shape: (60000, 28, 28, 1)\n",
            "60000 train samples\n",
            "10000 test samples\n",
            "WARNING:tensorflow:From /usr/local/lib/python3.6/dist-packages/keras/backend/tensorflow_backend.py:66: The name tf.get_default_graph is deprecated. Please use tf.compat.v1.get_default_graph instead.\n",
            "\n",
            "WARNING:tensorflow:From /usr/local/lib/python3.6/dist-packages/keras/backend/tensorflow_backend.py:541: The name tf.placeholder is deprecated. Please use tf.compat.v1.placeholder instead.\n",
            "\n",
            "WARNING:tensorflow:From /usr/local/lib/python3.6/dist-packages/keras/backend/tensorflow_backend.py:4432: The name tf.random_uniform is deprecated. Please use tf.random.uniform instead.\n",
            "\n",
            "WARNING:tensorflow:From /usr/local/lib/python3.6/dist-packages/keras/backend/tensorflow_backend.py:4267: The name tf.nn.max_pool is deprecated. Please use tf.nn.max_pool2d instead.\n",
            "\n",
            "WARNING:tensorflow:From /usr/local/lib/python3.6/dist-packages/keras/backend/tensorflow_backend.py:148: The name tf.placeholder_with_default is deprecated. Please use tf.compat.v1.placeholder_with_default instead.\n",
            "\n",
            "WARNING:tensorflow:From /usr/local/lib/python3.6/dist-packages/keras/backend/tensorflow_backend.py:3733: calling dropout (from tensorflow.python.ops.nn_ops) with keep_prob is deprecated and will be removed in a future version.\n",
            "Instructions for updating:\n",
            "Please use `rate` instead of `keep_prob`. Rate should be set to `rate = 1 - keep_prob`.\n",
            "WARNING:tensorflow:From /usr/local/lib/python3.6/dist-packages/keras/optimizers.py:793: The name tf.train.Optimizer is deprecated. Please use tf.compat.v1.train.Optimizer instead.\n",
            "\n",
            "WARNING:tensorflow:From /usr/local/lib/python3.6/dist-packages/keras/backend/tensorflow_backend.py:3576: The name tf.log is deprecated. Please use tf.math.log instead.\n",
            "\n",
            "           OPERATION           DATA DIMENSIONS   WEIGHTS(N)   WEIGHTS(%)\n",
            "\n",
            "               Input   #####     28   28    1\n",
            "              Conv2D    \\|/  -------------------       320     0.0%\n",
            "                relu   #####     26   26   32\n",
            "              Conv2D    \\|/  -------------------     18496     1.5%\n",
            "                relu   #####     24   24   64\n",
            "        MaxPooling2D   Y max -------------------         0     0.0%\n",
            "                       #####     12   12   64\n",
            "             Dropout    | || -------------------         0     0.0%\n",
            "                       #####     12   12   64\n",
            "             Flatten   ||||| -------------------         0     0.0%\n",
            "                       #####        9216\n",
            "               Dense   XXXXX -------------------   1179776    98.3%\n",
            "                relu   #####         128\n",
            "             Dropout    | || -------------------         0     0.0%\n",
            "                       #####         128\n",
            "               Dense   XXXXX -------------------      1290     0.1%\n",
            "             softmax   #####          10\n"
          ],
          "name": "stdout"
        }
      ]
    },
    {
      "cell_type": "code",
      "metadata": {
        "id": "0AGUbWEHDKmT",
        "colab_type": "code",
        "outputId": "3c8c01da-7c62-47eb-9bb5-f3dffe7dd3b4",
        "colab": {
          "base_uri": "https://localhost:8080/",
          "height": 1000
        }
      },
      "source": [
        "\n",
        "history = model.fit(x_train, y_train,\n",
        "          batch_size=batch_size,\n",
        "          epochs=epochs,\n",
        "          verbose=1,\n",
        "          validation_data=(x_test, y_test))\n"
      ],
      "execution_count": 2,
      "outputs": [
        {
          "output_type": "stream",
          "text": [
            "WARNING:tensorflow:From /usr/local/lib/python3.6/dist-packages/tensorflow_core/python/ops/math_grad.py:1424: where (from tensorflow.python.ops.array_ops) is deprecated and will be removed in a future version.\n",
            "Instructions for updating:\n",
            "Use tf.where in 2.0, which has the same broadcast rule as np.where\n",
            "WARNING:tensorflow:From /usr/local/lib/python3.6/dist-packages/keras/backend/tensorflow_backend.py:1033: The name tf.assign_add is deprecated. Please use tf.compat.v1.assign_add instead.\n",
            "\n",
            "WARNING:tensorflow:From /usr/local/lib/python3.6/dist-packages/keras/backend/tensorflow_backend.py:1020: The name tf.assign is deprecated. Please use tf.compat.v1.assign instead.\n",
            "\n",
            "WARNING:tensorflow:From /usr/local/lib/python3.6/dist-packages/keras/backend/tensorflow_backend.py:3005: The name tf.Session is deprecated. Please use tf.compat.v1.Session instead.\n",
            "\n",
            "Train on 60000 samples, validate on 10000 samples\n",
            "Epoch 1/20\n",
            "WARNING:tensorflow:From /usr/local/lib/python3.6/dist-packages/keras/backend/tensorflow_backend.py:190: The name tf.get_default_session is deprecated. Please use tf.compat.v1.get_default_session instead.\n",
            "\n",
            "WARNING:tensorflow:From /usr/local/lib/python3.6/dist-packages/keras/backend/tensorflow_backend.py:197: The name tf.ConfigProto is deprecated. Please use tf.compat.v1.ConfigProto instead.\n",
            "\n",
            "WARNING:tensorflow:From /usr/local/lib/python3.6/dist-packages/keras/backend/tensorflow_backend.py:207: The name tf.global_variables is deprecated. Please use tf.compat.v1.global_variables instead.\n",
            "\n",
            "WARNING:tensorflow:From /usr/local/lib/python3.6/dist-packages/keras/backend/tensorflow_backend.py:216: The name tf.is_variable_initialized is deprecated. Please use tf.compat.v1.is_variable_initialized instead.\n",
            "\n",
            "WARNING:tensorflow:From /usr/local/lib/python3.6/dist-packages/keras/backend/tensorflow_backend.py:223: The name tf.variables_initializer is deprecated. Please use tf.compat.v1.variables_initializer instead.\n",
            "\n",
            "60000/60000 [==============================] - 12s 203us/step - loss: 0.2737 - acc: 0.9157 - val_loss: 0.0602 - val_acc: 0.9808\n",
            "Epoch 2/20\n",
            "60000/60000 [==============================] - 6s 100us/step - loss: 0.0886 - acc: 0.9741 - val_loss: 0.0385 - val_acc: 0.9872\n",
            "Epoch 3/20\n",
            "60000/60000 [==============================] - 6s 102us/step - loss: 0.0665 - acc: 0.9808 - val_loss: 0.0367 - val_acc: 0.9871\n",
            "Epoch 4/20\n",
            "60000/60000 [==============================] - 6s 103us/step - loss: 0.0534 - acc: 0.9842 - val_loss: 0.0312 - val_acc: 0.9899\n",
            "Epoch 5/20\n",
            "60000/60000 [==============================] - 6s 103us/step - loss: 0.0471 - acc: 0.9864 - val_loss: 0.0313 - val_acc: 0.9900\n",
            "Epoch 6/20\n",
            "60000/60000 [==============================] - 6s 102us/step - loss: 0.0408 - acc: 0.9880 - val_loss: 0.0277 - val_acc: 0.9907\n",
            "Epoch 7/20\n",
            "60000/60000 [==============================] - 6s 102us/step - loss: 0.0382 - acc: 0.9888 - val_loss: 0.0291 - val_acc: 0.9899\n",
            "Epoch 8/20\n",
            "60000/60000 [==============================] - 6s 102us/step - loss: 0.0352 - acc: 0.9892 - val_loss: 0.0295 - val_acc: 0.9904\n",
            "Epoch 9/20\n",
            "60000/60000 [==============================] - 6s 102us/step - loss: 0.0323 - acc: 0.9898 - val_loss: 0.0288 - val_acc: 0.9897\n",
            "Epoch 10/20\n",
            "60000/60000 [==============================] - 6s 101us/step - loss: 0.0305 - acc: 0.9906 - val_loss: 0.0275 - val_acc: 0.9910\n",
            "Epoch 11/20\n",
            "60000/60000 [==============================] - 6s 103us/step - loss: 0.0289 - acc: 0.9915 - val_loss: 0.0292 - val_acc: 0.9906\n",
            "Epoch 12/20\n",
            "60000/60000 [==============================] - 6s 103us/step - loss: 0.0280 - acc: 0.9912 - val_loss: 0.0299 - val_acc: 0.9902\n",
            "Epoch 13/20\n",
            "60000/60000 [==============================] - 6s 102us/step - loss: 0.0259 - acc: 0.9916 - val_loss: 0.0295 - val_acc: 0.9914\n",
            "Epoch 14/20\n",
            "60000/60000 [==============================] - 6s 102us/step - loss: 0.0253 - acc: 0.9923 - val_loss: 0.0270 - val_acc: 0.9920\n",
            "Epoch 15/20\n",
            "60000/60000 [==============================] - 6s 101us/step - loss: 0.0246 - acc: 0.9921 - val_loss: 0.0284 - val_acc: 0.9909\n",
            "Epoch 16/20\n",
            "60000/60000 [==============================] - 6s 102us/step - loss: 0.0241 - acc: 0.9925 - val_loss: 0.0291 - val_acc: 0.9917\n",
            "Epoch 17/20\n",
            "60000/60000 [==============================] - 6s 102us/step - loss: 0.0225 - acc: 0.9928 - val_loss: 0.0294 - val_acc: 0.9912\n",
            "Epoch 18/20\n",
            "60000/60000 [==============================] - 6s 102us/step - loss: 0.0224 - acc: 0.9932 - val_loss: 0.0291 - val_acc: 0.9915\n",
            "Epoch 19/20\n",
            "60000/60000 [==============================] - 6s 101us/step - loss: 0.0201 - acc: 0.9937 - val_loss: 0.0330 - val_acc: 0.9910\n",
            "Epoch 20/20\n",
            "60000/60000 [==============================] - 6s 101us/step - loss: 0.0208 - acc: 0.9935 - val_loss: 0.0333 - val_acc: 0.9906\n"
          ],
          "name": "stdout"
        }
      ]
    },
    {
      "cell_type": "code",
      "metadata": {
        "id": "2CvS_kMH2AZA",
        "colab_type": "code",
        "outputId": "56c28c54-64fe-44a3-cd3f-bb121a708f61",
        "colab": {
          "base_uri": "https://localhost:8080/",
          "height": 295
        }
      },
      "source": [
        "# Plots for training and testing process: loss and accuracy\n",
        "\n",
        "n_epochs = len(history.history['loss'])\n",
        "\n",
        "#plt.figure(0)\n",
        "#plt.plot(history.history['categorical_accuracy'],'r')\n",
        "#plt.plot(history.history['val_categorical_accuracy'],'g')\n",
        "#plt.xticks(np.arange(0, n_epochs, 10.0))\n",
        "#plt.rcParams['figure.figsize'] = (8, 6)\n",
        "#plt.xlabel(\"Num of Epochs\")\n",
        "#plt.ylabel(\"Accuracy\")\n",
        "#plt.title(\"Training Cat_Accuracy vs Validation Cat_Accuracy\")\n",
        "#plt.legend(['train','validation'])\n",
        "\n",
        "plt.figure(1)\n",
        "plt.plot(history.history['loss'],'r')\n",
        "plt.plot(history.history['val_loss'],'g')\n",
        "plt.xticks(np.arange(0, n_epochs, 10.0))\n",
        "plt.rcParams['figure.figsize'] = (8, 6)\n",
        "plt.xlabel(\"Num of Epochs\")\n",
        "plt.ylabel(\"Loss\")\n",
        "plt.title(\"Training Loss vs Validation Loss\")\n",
        "plt.legend(['train','validation'])\n",
        "plt.show()\n",
        "\n"
      ],
      "execution_count": 3,
      "outputs": [
        {
          "output_type": "display_data",
          "data": {
            "image/png": "[encoded data removed]",
            "text/plain": [
              "<Figure size 432x288 with 1 Axes>"
            ]
          },
          "metadata": {
            "tags": []
          }
        }
      ]
    },
    {
      "cell_type": "code",
      "metadata": {
        "id": "qyz4oCs9DO8a",
        "colab_type": "code",
        "outputId": "35c09ee0-6a4f-4fa2-8609-eabfa9b59d55",
        "colab": {
          "base_uri": "https://localhost:8080/",
          "height": 52
        }
      },
      "source": [
        "score = model.evaluate(x_test, y_test, verbose=0)\n",
        "print('Test loss:', score[0])\n",
        "print('Test accuracy:', score[1])"
      ],
      "execution_count": 4,
      "outputs": [
        {
          "output_type": "stream",
          "text": [
            "Test loss: 0.03328939628885382\n",
            "Test accuracy: 0.9906\n"
          ],
          "name": "stdout"
        }
      ]
    },
    {
      "cell_type": "code",
      "metadata": {
        "id": "ymDUOVrh7CEr",
        "colab_type": "code",
        "outputId": "54df95e3-7f69-405b-d824-08acf9adedf9",
        "colab": {
          "base_uri": "https://localhost:8080/",
          "height": 34
        }
      },
      "source": [
        "\n",
        "# evaluate loaded model\n",
        "scores_train = model.evaluate(x_train, y_train, verbose=0)\n",
        "scores_test  = model.evaluate(x_test,  y_test,  verbose=0)\n",
        "\n",
        "print(\"Accuracy Train: %.2f%% , Test: %.2f%% \" % (scores_train[1]*100, scores_test[1]*100 ))"
      ],
      "execution_count": 5,
      "outputs": [
        {
          "output_type": "stream",
          "text": [
            "Accuracy Train: 99.84% , Test: 99.06% \n"
          ],
          "name": "stdout"
        }
      ]
    },
    {
      "cell_type": "code",
      "metadata": {
        "id": "j-F7uuLF6-8g",
        "colab_type": "code",
        "outputId": "68685bc0-b752-4f07-efa9-24af9f7a4d3f",
        "colab": {
          "base_uri": "https://localhost:8080/",
          "height": 1000
        }
      },
      "source": [
        "# Confusion matrix result\n",
        "\n",
        "from sklearn.metrics import classification_report, confusion_matrix\n",
        "Y_pred = model.predict(x_test, verbose=2)\n",
        "\n",
        "y_pred = np.argmax(Y_pred, axis=1)\n",
        "\n",
        "y_test2 = np.argmax(y_test, axis=1)\n",
        "\n",
        "\n",
        "\n",
        "#confusion matrix\n",
        "cm = confusion_matrix(np.argmax(y_test,axis=1),y_pred)\n",
        "print(cm)\n",
        "\n",
        "# Visualizing of confusion matrix\n",
        "import seaborn as sn\n",
        "import pandas  as pd\n",
        "\n",
        "\n",
        "df_cm = pd.DataFrame(cm, range(10),range(10))\n",
        "#                     range(num_classes),\n",
        "#                  range(num_classes))\n",
        "#plt.figure(figsize = (10,7))\n",
        "plt.figure(2,figsize = (15,15) )\n",
        "sn.set(font_scale=1.4) #for label size\n",
        "sn.heatmap(df_cm, annot=True,annot_kws={\"size\": 12})# font size\n",
        "plt.show()\n"
      ],
      "execution_count": 6,
      "outputs": [
        {
          "output_type": "stream",
          "text": [
            "[[ 977    0    0    0    0    0    1    1    1    0]\n",
            " [   0 1132    1    1    0    1    0    0    0    0]\n",
            " [   1    1 1024    1    0    0    0    5    0    0]\n",
            " [   0    0    1 1004    0    4    0    0    1    0]\n",
            " [   0    0    0    0  974    0    5    0    0    3]\n",
            " [   1    0    0    4    0  886    1    0    0    0]\n",
            " [   3    2    0    1    1    3  948    0    0    0]\n",
            " [   0    2    5    1    0    0    0 1018    1    1]\n",
            " [   4    0    2    1    0    4    0    1  959    3]\n",
            " [   2    1    0    3    5    7    0    5    2  984]]\n"
          ],
          "name": "stdout"
        },
        {
          "output_type": "display_data",
          "data": {
            "image/png": "[encoded data removed]",
            "text/plain": [
              "<Figure size 1080x1080 with 2 Axes>"
            ]
          },
          "metadata": {
            "tags": []
          }
        }
      ]
    }
  ]
}